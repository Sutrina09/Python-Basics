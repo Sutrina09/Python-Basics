{
  "nbformat": 4,
  "nbformat_minor": 0,
  "metadata": {
    "colab": {
      "provenance": []
    },
    "kernelspec": {
      "name": "python3",
      "display_name": "Python 3"
    },
    "language_info": {
      "name": "python"
    }
  },
  "cells": [
    {
      "cell_type": "markdown",
      "source": [
        "#Python Basics Questions"
      ],
      "metadata": {
        "id": "f0yjRrm3wQx_"
      }
    },
    {
      "cell_type": "markdown",
      "source": [
        "**1. What is Python, and why is it popular?**\n",
        "- Python is a high-level, interpreted programming language known for its simplicity, readability, and versatility. Python's straightforward syntax makes it easy for beginners to learn while being powerful enough for advanced applications.\n",
        "-Its clean and readable syntax simplifies programming.\n",
        "-Libraries like NumPy, Pandas, TensorFlow, Flask, and Django accelerate development.\n",
        "-Works on Windows, macOS, and Linux, making development seamless."
      ],
      "metadata": {
        "id": "sHE1Wdjk17tC"
      }
    },
    {
      "cell_type": "markdown",
      "source": [
        "**2. What is an interpreter in Python?**\n",
        "\n",
        "-In Python, an interpreter is a program that executes Python code line by line, rather than compiling the entire code beforehand like some other languages. This makes Python an interpreted language, meaning we can write and execute code without needing to compile it first."
      ],
      "metadata": {
        "id": "0Q226Y_B24o8"
      }
    },
    {
      "cell_type": "markdown",
      "source": [
        "**3. What are pre-defined keywords in Python?**\n",
        "- Keywords in Python are reserved words that hold specific meanings within the language and cannot be used as identifiers, such as variable or function names. Some common examples include if, else, while, for, def, class, import, try, except, return, True, False, and None. These keywords are case-sensitive and cannot be modified, redefined, or overridden within a Python program."
      ],
      "metadata": {
        "id": "mPAwRBx83ffR"
      }
    },
    {
      "cell_type": "markdown",
      "source": [
        "**4. Can keywords be used as variable names?**\n",
        "- No, keywords cannot be used as variable names in Python. Since keywords have predefined meanings in the language, using them as variable names would create confusion and errors in our code."
      ],
      "metadata": {
        "id": "1yAKoZEU4AuT"
      }
    },
    {
      "cell_type": "markdown",
      "source": [
        "**5.  What is mutability in Python?**\n",
        "- Mutability in Python refers to whether an object’s value can be changed after creation. Objects in Python are classified as mutable or immutable, depending on their ability to be modified."
      ],
      "metadata": {
        "id": "jcL4Ep1D4S6-"
      }
    },
    {
      "cell_type": "markdown",
      "source": [
        "**6. Why are lists mutable, but tuples are immutable?**\n",
        "- Lists are designed for dynamic data manipulation. Their elements can be added, removed, or changed because lists store references to objects and allow modifications.\n",
        "-Python allows lists to be modified because they are implemented as dynamic arrays, meaning elements can be reallocated and updated efficiently.\n",
        "-Tuples, on the other hand, are fixed once created. Their immutability makes them more efficient, hashable, and safe for storing constants.\n",
        "-Tuples are stored as static arrays, meaning their memory allocation is fixed once created. This makes operations on tuples faster compared to lists and allows tuples to be used as dictionary keys."
      ],
      "metadata": {
        "id": "vej8xaG84jUO"
      }
    },
    {
      "cell_type": "markdown",
      "source": [
        "**7. What is the difference between “==” and “is” operators in Python**\n",
        "- == (Equality Operator)\n",
        "Checks whether two objects have the same value.\n",
        "\n",
        "Compares the content of objects, not their memory location.\n",
        "- is (Identity Operator)\n",
        "Checks whether two objects refer to the same memory location.\n",
        "\n",
        "Used to compare object identity rather than content."
      ],
      "metadata": {
        "id": "0eCBlr1q5EHc"
      }
    },
    {
      "cell_type": "markdown",
      "source": [
        "**8. What are logical operators in Python?**\n",
        "- In Python, logical operators are used to combine conditional statements and evaluate expressions based on Boolean logic (True or False). These operators are crucial for decision-making in programming."
      ],
      "metadata": {
        "id": "1b82AQps5trX"
      }
    },
    {
      "cell_type": "markdown",
      "source": [
        "**9. What is type casting in Python?**\n",
        "- Type casting, also known as type conversion, is the process of transforming one data type into another in Python. The language offers several built-in functions for this purpose, including int(), float(), str(), list(), tuple(), and dict(). Type casting plays a crucial role in arithmetic operations, data manipulation, and handling input/output operations effectively in Python programs."
      ],
      "metadata": {
        "id": "wEoFpz_K6HwL"
      }
    },
    {
      "cell_type": "markdown",
      "source": [
        "**10. What is the difference between implicit and explicit type casting?**\n",
        "- Implicit Type Casting (Automatic Conversion)\n",
        "Python automatically converts one data type to another when it's safe to do so, ensuring no data loss.\n",
        "\n",
        "```\n",
        "num_int = 5     \n",
        "num_float = 2.5\n",
        "\n",
        "result = num_int + num_float\n",
        "print(result)  \n",
        "print(type(result))  # Output: <class 'float'>\n",
        "\n",
        "```\n",
        "- Explicit Type Casting (Manual Conversion)\n",
        "Explicit type casting requires manual conversion using built-in functions like int(), float(), str(), etc.Performed by the programmer.May cause data loss.Useful for strict data conversions\n",
        "\n",
        "\n",
        "\n",
        "```\n",
        "num_str = \"100\"  \n",
        "num_int = int(num_str)\n",
        "print(num_int)\n",
        "print(type(num_int))  # Output: <class 'int'>\n",
        "\n",
        "```\n",
        "\n",
        "\n",
        "\n"
      ],
      "metadata": {
        "id": "fUMnau1L6YNH"
      }
    },
    {
      "cell_type": "markdown",
      "source": [
        "**11. What is the purpose of conditional statements in Python?**\n",
        "- Conditional statements in Python enable the execution of specific code blocks based on the evaluation of one or more conditions. Python provides if, elif (else if), and else statements to control the flow of execution, ensuring logical decision-making. Additionally, conditionals can be nested to handle multiple scenarios, allowing programs to branch into different paths based on the outcome of logical expressions"
      ],
      "metadata": {
        "id": "L-i7CvOz7g3y"
      }
    },
    {
      "cell_type": "markdown",
      "source": [
        "**12.  How does the elif statement work?**\n",
        "- The elif statement in Python stands for \"else if\" and is used to check additional conditions after an if statement. It ensures that multiple conditions can be evaluated sequentially, and once a condition is met, the corresponding block executes."
      ],
      "metadata": {
        "id": "LcMrUreI72le"
      }
    },
    {
      "cell_type": "markdown",
      "source": [
        "**13. What is the difference between for and while loops?**\n",
        "- for Loop (Iterates Over a Sequence)\n",
        "Used when you know the number of iterations beforehand.\n",
        "\n",
        "Iterates over a sequence (like a list, tuple, range, or string).\n",
        "- while Loop (Based on a Condition)\n",
        "Used when you don’t know the number of iterations beforehand.\n",
        "\n",
        "Runs until a condition becomes False."
      ],
      "metadata": {
        "id": "1hEy9O2A8C5K"
      }
    },
    {
      "cell_type": "markdown",
      "source": [
        "**14. Describe a scenario where a while loop is more suitable than a for loop.**\n",
        "- A while loop is more suitable when you don’t know the exact number of iterations needed beforehand and need to loop based on a dynamic condition.\n",
        "- A scenario where \"while\" loop will be ideal is when we are creating a login system where users must enter the correct e,ail id and password to proceed. Since the number of incorrect attempts is unknown, a while loop is ideal."
      ],
      "metadata": {
        "id": "Wgdzhgjn8Tbt"
      }
    },
    {
      "cell_type": "markdown",
      "source": [
        "# Practical Questions"
      ],
      "metadata": {
        "id": "5jJdzaSkwXXi"
      }
    },
    {
      "cell_type": "markdown",
      "source": [
        "**1. Write a Python program to print \"Hello, World!\"**\n",
        "\n"
      ],
      "metadata": {
        "id": "hWaxj8hOmi6h"
      }
    },
    {
      "cell_type": "code",
      "source": [
        "print(\"Hello,World!\")"
      ],
      "metadata": {
        "colab": {
          "base_uri": "https://localhost:8080/"
        },
        "id": "h_5HH6QqmwdD",
        "outputId": "add7efc7-98bc-48ce-b85d-f0b69d8337c4"
      },
      "execution_count": null,
      "outputs": [
        {
          "output_type": "stream",
          "name": "stdout",
          "text": [
            "Hello,World!\n"
          ]
        }
      ]
    },
    {
      "cell_type": "markdown",
      "source": [
        "**2. Write a Python program that displays your name and age.**"
      ],
      "metadata": {
        "id": "Aq1kuV-Ym6AN"
      }
    },
    {
      "cell_type": "code",
      "source": [
        "name = \"Sutrina Mondal\"\n",
        "age = \"23\"\n",
        "\n",
        "print(\"My name is \" + name + \" and I am \" + age + \".\")\n"
      ],
      "metadata": {
        "colab": {
          "base_uri": "https://localhost:8080/"
        },
        "id": "pAXscvSInBX0",
        "outputId": "804e4f63-0358-4859-a22c-f2c1e966d2b0"
      },
      "execution_count": null,
      "outputs": [
        {
          "output_type": "stream",
          "name": "stdout",
          "text": [
            "My name is Sutrina Mondal and I am 23.\n"
          ]
        }
      ]
    },
    {
      "cell_type": "markdown",
      "source": [
        "**3. Write code to print all the pre-defined keywords in Python using the keyword library.**"
      ],
      "metadata": {
        "id": "jCrheJHvn-K5"
      }
    },
    {
      "cell_type": "code",
      "source": [
        "import keyword\n",
        "\n",
        "print(keyword.kwlist)\n"
      ],
      "metadata": {
        "colab": {
          "base_uri": "https://localhost:8080/"
        },
        "id": "zCaaeUyyoFAM",
        "outputId": "9dcf80b4-41a7-43fb-9b8e-8198b1827bdc"
      },
      "execution_count": null,
      "outputs": [
        {
          "output_type": "stream",
          "name": "stdout",
          "text": [
            "['False', 'None', 'True', 'and', 'as', 'assert', 'async', 'await', 'break', 'class', 'continue', 'def', 'del', 'elif', 'else', 'except', 'finally', 'for', 'from', 'global', 'if', 'import', 'in', 'is', 'lambda', 'nonlocal', 'not', 'or', 'pass', 'raise', 'return', 'try', 'while', 'with', 'yield']\n"
          ]
        }
      ]
    },
    {
      "cell_type": "markdown",
      "source": [
        "**4.  Write a program that checks if a given word is a Python keyword.**"
      ],
      "metadata": {
        "id": "SSk0PX2soj-u"
      }
    },
    {
      "cell_type": "code",
      "source": [
        "import keyword\n",
        "\n",
        "# Taking input from user\n",
        "word = input(\"Enter a word: \")\n",
        "\n",
        "print(\"'\" + word + \"' is \" + (\"a Python keyword.\" if keyword.iskeyword(word) else \"not a Python keyword.\"))"
      ],
      "metadata": {
        "colab": {
          "base_uri": "https://localhost:8080/"
        },
        "id": "gsvMNwWsopuV",
        "outputId": "c1e9f84a-ea27-490a-f54a-20cce6b0fc52"
      },
      "execution_count": null,
      "outputs": [
        {
          "output_type": "stream",
          "name": "stdout",
          "text": [
            "Enter a word: raise\n",
            "'raise' is a Python keyword.\n"
          ]
        }
      ]
    },
    {
      "cell_type": "markdown",
      "source": [
        "5.  **Create a list and tuple in Python, and demonstrate how attempting to change an element works differently\n",
        "for each.**"
      ],
      "metadata": {
        "id": "IWl-k-UYp613"
      }
    },
    {
      "cell_type": "code",
      "source": [
        "My_list = [10,20,30]\n",
        "My_tuple = (10,70,60)\n",
        "\n",
        "My_list[2] = 50\n",
        "print(\"Modified list:\", My_list)\n",
        "\n",
        "try:\n",
        "  My_tuple[1] = 23\n",
        "except TypeError as E:\n",
        "    print(\"Error:\",E)"
      ],
      "metadata": {
        "colab": {
          "base_uri": "https://localhost:8080/"
        },
        "id": "b3aUzKzHqISx",
        "outputId": "18bcfda1-1b29-4267-a663-a3749e0343ce"
      },
      "execution_count": null,
      "outputs": [
        {
          "output_type": "stream",
          "name": "stdout",
          "text": [
            "Modified list: [10, 20, 50]\n",
            "Error: 'tuple' object does not support item assignment\n"
          ]
        }
      ]
    },
    {
      "cell_type": "markdown",
      "source": [
        "**6.  Write a function to demonstrate the behavior of mutable and immutable arguments.**"
      ],
      "metadata": {
        "id": "wAaV6Jncr5Yv"
      }
    },
    {
      "cell_type": "code",
      "source": [
        "def modify_arguments(mutable_obj, immutable_obj):\n",
        "    # Modifying the mutable object (list)\n",
        "    mutable_obj.append(99)\n",
        "\n",
        "    # Trying to modify the immutable object (integer)\n",
        "    immutable_obj += 99\n",
        "\n",
        "    print(\"Inside function - Mutable object:\", mutable_obj)\n",
        "    print(\"Inside function - Immutable object:\", immutable_obj)\n",
        "\n",
        "# Creating a list (mutable) and an integer (immutable)\n",
        "my_list = [1, 2, 3]\n",
        "my_int = 10\n",
        "\n",
        "# Calling the function\n",
        "modify_arguments(my_list, my_int)\n",
        "\n",
        "# Checking changes outside the function\n",
        "print(\"Outside function - Mutable object:\", my_list)\n",
        "print(\"Outside function - Immutable object:\", my_int)\n"
      ],
      "metadata": {
        "colab": {
          "base_uri": "https://localhost:8080/"
        },
        "id": "mWxAIaTGsAlI",
        "outputId": "67434a0b-89b0-43c9-82c7-18190ea81774"
      },
      "execution_count": null,
      "outputs": [
        {
          "output_type": "stream",
          "name": "stdout",
          "text": [
            "Inside function - Mutable object: [1, 2, 3, 99]\n",
            "Inside function - Immutable object: 109\n",
            "Outside function - Mutable object: [1, 2, 3, 99]\n",
            "Outside function - Immutable object: 10\n"
          ]
        }
      ]
    },
    {
      "cell_type": "markdown",
      "source": [
        "**7. Write a program that performs basic arithmetic operations on two user-input numbers.**"
      ],
      "metadata": {
        "id": "EPFqUz4wyBQx"
      }
    },
    {
      "cell_type": "code",
      "source": [
        "# Getting user input for two numbers\n",
        "num1 = float(input(\"Enter first number: \"))\n",
        "num2 = float(input(\"Enter second number: \"))\n",
        "\n",
        "# Performing basic arithmetic operations\n",
        "print(f\"Addition: {num1} + {num2} = {num1 + num2}\")\n",
        "print(f\"Subtraction: {num1} - {num2} = {num1 - num2}\")\n",
        "print(f\"Multiplication: {num1} * {num2} = {num1 * num2}\")\n",
        "\n",
        "# Checking for division by zero before performing division\n",
        "if num2 != 0:\n",
        "    print(f\"Division: {num1} / {num2} = {num1 / num2}\")\n",
        "else:\n",
        "    print(\"Division by zero is not allowed.\")\n"
      ],
      "metadata": {
        "colab": {
          "base_uri": "https://localhost:8080/"
        },
        "id": "n5862tBPyHTs",
        "outputId": "04ba13b6-c87a-43dd-b16b-ebb0e6da58a6"
      },
      "execution_count": null,
      "outputs": [
        {
          "output_type": "stream",
          "name": "stdout",
          "text": [
            "Enter first number: 6\n",
            "Enter second number: 8\n",
            "Addition: 6.0 + 8.0 = 14.0\n",
            "Subtraction: 6.0 - 8.0 = -2.0\n",
            "Multiplication: 6.0 * 8.0 = 48.0\n",
            "Division: 6.0 / 8.0 = 0.75\n"
          ]
        }
      ]
    },
    {
      "cell_type": "markdown",
      "source": [
        "**8.  Write a program to demonstrate the use of logical operators.**"
      ],
      "metadata": {
        "id": "c8lKjqxfyxz9"
      }
    },
    {
      "cell_type": "code",
      "source": [
        "#Getting user input for two boolean values\n",
        "\n",
        "bool1 = input(\"Enter your first boolean value(true/false)\") == \"true\"\n",
        "bool2 = input(\"Enter your second boolean value(true/false)\") == \"true\"\n",
        "\n",
        "#Performing logical operations\n",
        "print(f\"Logical AND operator: {bool1} and {bool2} = {bool1 and bool2}\")\n",
        "print(f\"Logical OR operator: {bool1} or {bool2} = {bool1 or bool2}\")\n",
        "print(f\"Logical NOT operator: not {bool1} = {not bool1}\")\n",
        "print(f\"Logical NOT operator: not {bool2} = {not bool2}\")"
      ],
      "metadata": {
        "colab": {
          "base_uri": "https://localhost:8080/"
        },
        "id": "oz2r-Kjwy4z4",
        "outputId": "56073217-a3d5-4795-b37d-bb97f1f954ac"
      },
      "execution_count": null,
      "outputs": [
        {
          "output_type": "stream",
          "name": "stdout",
          "text": [
            "Enter your first boolean value(true/false)false\n",
            "Enter your second boolean value(true/false)true\n",
            "Logical AND operator: False and True = False\n",
            "Logical OR operator: False or True = True\n",
            "Logical NOT operator: not False = True\n",
            "Logical NOT operator: not True = False\n"
          ]
        }
      ]
    },
    {
      "cell_type": "markdown",
      "source": [
        "**9. Write a Python program to convert user input from string to integer, float, and boolean types.**"
      ],
      "metadata": {
        "id": "_5NhpIbU15Cq"
      }
    },
    {
      "cell_type": "code",
      "source": [
        "user_input = input(\"Enter any value: \")\n",
        "\n",
        "#converting user input to int if applicable\n",
        "try:\n",
        "  int_input = int(user_input)\n",
        "  print(f\"Converted integer value : {int_input}\")\n",
        "except ValueError:\n",
        "  print(\"Cannot convert to integer\")\n",
        "\n",
        "#converting user input to float if applicable\n",
        "try:\n",
        "  float_input = float(user_input)\n",
        "  print(f\"Converted float value : {float_input}\")\n",
        "except ValueError:\n",
        "  print(\"Cannot convert to float\")\n",
        "\n",
        "# Convert to boolean\n",
        "bool_input = user_input.strip().lower() in [\"true\",\"1\",\"yes\"]\n",
        "print(f\"Boolean conversion\",{bool_input})"
      ],
      "metadata": {
        "colab": {
          "base_uri": "https://localhost:8080/"
        },
        "id": "LBYAaiWo2BcR",
        "outputId": "9e4bf640-0498-48b9-9463-4cce279dccf9"
      },
      "execution_count": null,
      "outputs": [
        {
          "output_type": "stream",
          "name": "stdout",
          "text": [
            "Enter any value: true\n",
            "Cannot convert to integer\n",
            "Cannot convert to float\n",
            "Boolean conversion {True}\n"
          ]
        }
      ]
    },
    {
      "cell_type": "markdown",
      "source": [
        " **10. Write code to demonstrate type casting with list elements.**"
      ],
      "metadata": {
        "id": "yy_kO_ig4281"
      }
    },
    {
      "cell_type": "code",
      "source": [
        "# Sample list with mixed types\n",
        "mixed_list = [\"10\", \"20.5\", \"True\"]\n",
        "\n",
        "# Type casting\n",
        "int_value = int(mixed_list[0])     # Convert to integer\n",
        "float_value = float(mixed_list[1]) # Convert to float\n",
        "bool_value = mixed_list[2] == \"True\"  # Convert to boolean\n",
        "\n",
        "# Print results\n",
        "print(int_value, float_value, bool_value)"
      ],
      "metadata": {
        "colab": {
          "base_uri": "https://localhost:8080/"
        },
        "id": "VZoATZHz45lE",
        "outputId": "8eaca055-a4d4-45a5-c3ea-7dd502085ee0"
      },
      "execution_count": null,
      "outputs": [
        {
          "output_type": "stream",
          "name": "stdout",
          "text": [
            "10 20.5 True\n"
          ]
        }
      ]
    },
    {
      "cell_type": "markdown",
      "source": [
        "**11. Write a program that checks if a number is positive, negative, or zero.**"
      ],
      "metadata": {
        "id": "t5fcRzeIqBap"
      }
    },
    {
      "cell_type": "code",
      "source": [
        "number = int(input(\"Enter any number: \"))\n",
        "\n",
        "# Checking if number is positive, negative, or zero\n",
        "if number > 0:\n",
        "    print(\"Your entered number is positive\")\n",
        "elif number < 0:\n",
        "    print(\"Your entered number is negative\")\n",
        "else:\n",
        "    print(\"Your entered number is 0\")"
      ],
      "metadata": {
        "colab": {
          "base_uri": "https://localhost:8080/"
        },
        "id": "0FBKpuRdqGpY",
        "outputId": "6b2c0cb7-cce5-449b-a8b1-e5e73822b82f"
      },
      "execution_count": 3,
      "outputs": [
        {
          "output_type": "stream",
          "name": "stdout",
          "text": [
            "Enter any number: 7\n",
            "Your entered number is positive\n"
          ]
        }
      ]
    },
    {
      "cell_type": "markdown",
      "source": [
        "**12. Write a for loop to print numbers from 1 to 10.**"
      ],
      "metadata": {
        "id": "8eEBzaZ4rF5j"
      }
    },
    {
      "cell_type": "code",
      "source": [
        "for num in range(1,11):\n",
        "  print(num)"
      ],
      "metadata": {
        "colab": {
          "base_uri": "https://localhost:8080/"
        },
        "id": "nw1339VprLVy",
        "outputId": "89559434-d865-449d-d972-2173d51cce8e"
      },
      "execution_count": 4,
      "outputs": [
        {
          "output_type": "stream",
          "name": "stdout",
          "text": [
            "1\n",
            "2\n",
            "3\n",
            "4\n",
            "5\n",
            "6\n",
            "7\n",
            "8\n",
            "9\n",
            "10\n"
          ]
        }
      ]
    },
    {
      "cell_type": "markdown",
      "source": [
        "**13. Write a Python program to find the sum of all even numbers between 1 and 50**"
      ],
      "metadata": {
        "id": "UaNyAK69rpQg"
      }
    },
    {
      "cell_type": "code",
      "source": [
        "sum_even = 0\n",
        "for num in range(1,51):\n",
        "  if num % 2 == 0:\n",
        "    sum_even += num\n",
        "print(\"Sum of all even numbers from 1 and 50 is: \",sum_even)"
      ],
      "metadata": {
        "colab": {
          "base_uri": "https://localhost:8080/"
        },
        "id": "ckPg6dhUryqL",
        "outputId": "5b6a604b-2019-478a-a5af-01c84b19f6f5"
      },
      "execution_count": 5,
      "outputs": [
        {
          "output_type": "stream",
          "name": "stdout",
          "text": [
            "Sum of all even numbers from 1 and 50 is:  650\n"
          ]
        }
      ]
    },
    {
      "cell_type": "markdown",
      "source": [
        "**14. Write a program to reverse a string using a while loop.**"
      ],
      "metadata": {
        "id": "ERnlSWqmsoeI"
      }
    },
    {
      "cell_type": "code",
      "source": [
        "string = input(\"Enter any string here: \")\n",
        "reversed_string = \"\"\n",
        "i = len(string)\n",
        "\n",
        "while i>0:\n",
        "  reversed_string += string[i-1]\n",
        "  i -=1\n",
        "print(\"Reversed string is: \",reversed_string)"
      ],
      "metadata": {
        "colab": {
          "base_uri": "https://localhost:8080/"
        },
        "id": "TDOY8Jpqsvha",
        "outputId": "8aa44938-1fb4-4be5-eec5-ad40cc555293"
      },
      "execution_count": 10,
      "outputs": [
        {
          "output_type": "stream",
          "name": "stdout",
          "text": [
            "Enter any string here: Sutrina\n",
            "Reversed string is:  anirtuS\n"
          ]
        }
      ]
    },
    {
      "cell_type": "markdown",
      "source": [
        "**15. Write a Python program to calculate the factorial of a number provided by the user using a while loop.**"
      ],
      "metadata": {
        "id": "8b6CAIH-uZQV"
      }
    },
    {
      "cell_type": "code",
      "source": [
        "number = int(input(\"Enter a number: \"))\n",
        "factorial = 1\n",
        "\n",
        "while number>0:\n",
        "  factorial *= number # Multiply factorial by the current value of number\n",
        "  number -=1 # Decrease number in each iteration\n",
        "print(\"Fcatorial of your entered number is:\",factorial)"
      ],
      "metadata": {
        "colab": {
          "base_uri": "https://localhost:8080/"
        },
        "id": "JhmDQE04ueKe",
        "outputId": "b6552d34-2b66-4f9e-9f26-c26c8f208bb7"
      },
      "execution_count": 11,
      "outputs": [
        {
          "output_type": "stream",
          "name": "stdout",
          "text": [
            "Enter a number: 3\n",
            "Fcatorial of your entered number is: 6\n"
          ]
        }
      ]
    }
  ]
}